{
 "cells": [
  {
   "cell_type": "code",
   "execution_count": 1,
   "metadata": {},
   "outputs": [],
   "source": [
    "%load_ext autoreload\n",
    "# %autoreload 2"
   ]
  },
  {
   "cell_type": "code",
   "execution_count": 2,
   "metadata": {},
   "outputs": [
    {
     "name": "stdout",
     "output_type": "stream",
     "text": [
      "[08-07 13:27:09][INFO] PC| 2025-08-07 13:27:09.663742\n"
     ]
    }
   ],
   "source": [
    "import logging\n",
    "from sys import stdout\n",
    "from datetime import datetime\n",
    "import numpy as np\n",
    "import os\n",
    "\n",
    "logging.basicConfig(\n",
    "    level=logging.INFO,\n",
    "    format=\"[%(asctime)s][%(levelname)s] %(message)s\",\n",
    "    stream=stdout,\n",
    "    datefmt=\"%m-%d %H:%M:%S\",\n",
    ")\n",
    "\n",
    "logging.info(f\"{os.getlogin()}| {datetime.now()}\")"
   ]
  },
  {
   "cell_type": "code",
   "execution_count": 3,
   "metadata": {},
   "outputs": [],
   "source": [
    "# ####################################################################\n",
    "def gauss_jordan(Ab: np.ndarray) -> np.ndarray:\n",
    "    \"\"\"Resuelve un sistema de ecuaciones lineales mediante el método de Gauss-Jordan.\n",
    "\n",
    "    ## Parameters\n",
    "\n",
    "    ``Ab``: matriz aumentada del sistema de ecuaciones lineales. Debe ser de tamaño n-by-(n+1), donde n es el número de incógnitas.\n",
    "\n",
    "    ## Return\n",
    "\n",
    "    ``solucion``: vector con la solución del sistema de ecuaciones lineales.\n",
    "\n",
    "    \"\"\"\n",
    "    if not isinstance(Ab, np.ndarray):\n",
    "        logging.debug(\"Convirtiendo A a numpy array.\")\n",
    "        Ab = np.array(Ab, dtype=float)\n",
    "    assert Ab.shape[0] == Ab.shape[1] - 1, \"La matriz A debe ser de tamaño n-by-(n+1).\"\n",
    "    n = Ab.shape[0]\n",
    "\n",
    "    for i in range(0, n):  # loop por columna\n",
    "\n",
    "        # --- encontrar pivote\n",
    "        p = None  # default, first element\n",
    "        for pi in range(i, n):\n",
    "            if Ab[pi, i] == 0:\n",
    "                # must be nonzero\n",
    "                continue\n",
    "\n",
    "            if p is None:\n",
    "                # first nonzero element\n",
    "                p = pi\n",
    "                continue\n",
    "\n",
    "            if abs(Ab[pi, i]) < abs(Ab[p, i]):\n",
    "                p = pi\n",
    "\n",
    "        if p is None:\n",
    "            # no pivot found.\n",
    "            raise ValueError(\"No existe solución única.\")\n",
    "\n",
    "        if p != i:\n",
    "            # swap rows\n",
    "            logging.debug(f\"Intercambiando filas {i} y {p}\")\n",
    "            _aux = Ab[i, :].copy()\n",
    "            Ab[i, :] = Ab[p, :].copy()\n",
    "            Ab[p, :] = _aux\n",
    "\n",
    "        # --- Eliminación: loop por fila\n",
    "        for j in range(n):\n",
    "            if i == j:\n",
    "                continue\n",
    "            m = Ab[j, i] / Ab[i, i]\n",
    "            Ab[j, i:] = Ab[j, i:] - m * Ab[i, i:]\n",
    "\n",
    "        logging.info(f\"\\n{Ab}\")\n",
    "\n",
    "    if Ab[n - 1, n - 1] == 0:\n",
    "        raise ValueError(\"No existe solución única.\")\n",
    "\n",
    "    # --- Sustitución hacia atrás\n",
    "    solucion = np.zeros(n)\n",
    "\n",
    "    for i in range(n - 1, -1, -1):\n",
    "        solucion[i] = Ab[i, -1] / Ab[i, i]\n",
    "\n",
    "    return solucion"
   ]
  },
  {
   "cell_type": "code",
   "execution_count": 4,
   "metadata": {},
   "outputs": [
    {
     "name": "stdout",
     "output_type": "stream",
     "text": [
      "[08-07 13:27:18][INFO] 2025-08-07 13:27:18.981612\n",
      "[08-07 13:27:18][INFO] PC| 2025-08-07 13:27:18.985256\n",
      "[08-07 13:27:18][INFO] 2025-08-07 13:27:18.985256\n",
      "[08-07 13:27:18][INFO] PC| 2025-08-07 13:27:18.990691\n",
      "[08-07 13:27:18][INFO] \n",
      "[[ 1.  2.  3.  4.  1.]\n",
      " [ 0.  1.  0. -1. -4.]\n",
      " [ 0.  0. -1. -3.  0.]\n",
      " [ 0. -1. -3. -6.  0.]]\n",
      "[08-07 13:27:18][INFO] \n",
      "[[ 1.  0.  3.  6.  9.]\n",
      " [ 0.  1.  0. -1. -4.]\n",
      " [ 0.  0. -1. -3.  0.]\n",
      " [ 0.  0. -3. -7. -4.]]\n",
      "[08-07 13:27:19][INFO] \n",
      "[[ 1.  0.  0. -3.  9.]\n",
      " [ 0.  1.  0. -1. -4.]\n",
      " [ 0.  0. -1. -3.  0.]\n",
      " [ 0.  0.  0.  2. -4.]]\n",
      "[08-07 13:27:19][INFO] \n",
      "[[ 1.  0.  0.  0.  3.]\n",
      " [ 0.  1.  0.  0. -6.]\n",
      " [ 0.  0. -1.  0. -6.]\n",
      " [ 0.  0.  0.  2. -4.]]\n"
     ]
    },
    {
     "data": {
      "text/plain": [
       "array([ 3., -6.,  6., -2.])"
      ]
     },
     "execution_count": 4,
     "metadata": {},
     "output_type": "execute_result"
    }
   ],
   "source": [
    "%autoreload 2\n",
    "from src import matriz_aumentada\n",
    "\n",
    "A = [\n",
    "    [1, 2, 3, 4],\n",
    "    [2, 5, 6, 7],\n",
    "    [3, 6, 8, 9],\n",
    "    [4, 7, 9, 10],\n",
    "]\n",
    "b = [1, -2, 3, 4]\n",
    "\n",
    "Ab = matriz_aumentada(A, b)\n",
    "gauss_jordan(Ab)"
   ]
  },
  {
   "cell_type": "markdown",
   "metadata": {},
   "source": [
    "# Resolver"
   ]
  },
  {
   "cell_type": "code",
   "execution_count": 5,
   "metadata": {},
   "outputs": [],
   "source": [
    "# ####################################################################\n",
    "def inv_matrix(A: np.ndarray) -> np.ndarray:\n",
    "    \"\"\"Inversión de una matriz cuadrada mediante método de Gauss-Jordan.\n",
    "    ## Parameters\n",
    "    ``A``: matriz cuadrada de tamaño n x n.\n",
    "\n",
    "    ## Return\n",
    "    ``A_inv``: matriz inversa de A.\n",
    "    \"\"\"\n",
    "    # COMPLETAR\n",
    "    # Debe basarse en la función gauss_jordan\n",
    "    pass"
   ]
  },
  {
   "cell_type": "code",
   "execution_count": 17,
   "metadata": {},
   "outputs": [],
   "source": [
    "def inv_matrix(A):\n",
    "    \"\"\"Inversión de una matriz cuadrada mediante Gauss-Jordan sin numpy.\"\"\"\n",
    "    n = len(A)\n",
    "    # Copia profunda de la matriz A y crea la identidad\n",
    "    AM = [row[:] for row in A]\n",
    "    I = [[float(i == j) for i in range(n)] for j in range(n)]\n",
    "\n",
    "    for fd in range(n):  # fd stands for focus diagonal\n",
    "        # Normalizar la fila fd\n",
    "        fdScaler = AM[fd][fd]\n",
    "        if fdScaler == 0:\n",
    "            # Buscar una fila para intercambiar\n",
    "            for i in range(fd+1, n):\n",
    "                if AM[i][fd] != 0:\n",
    "                    AM[fd], AM[i] = AM[i], AM[fd]\n",
    "                    I[fd], I[i] = I[i], I[fd]\n",
    "                    fdScaler = AM[fd][fd]\n",
    "                    break\n",
    "            else:\n",
    "                raise ValueError(\"La matriz no es invertible.\")\n",
    "        for j in range(n):\n",
    "            AM[fd][j] /= fdScaler\n",
    "            I[fd][j] /= fdScaler\n",
    "        # Hacer ceros en la columna fd para todas las filas menos la fd\n",
    "        for i in range(n):\n",
    "            if i == fd:\n",
    "                continue\n",
    "            crScaler = AM[i][fd]\n",
    "            for j in range(n):\n",
    "                AM[i][j] -= crScaler * AM[fd][j]\n",
    "                I[i][j] -= crScaler * I[fd][j]\n",
    "    return I"
   ]
  },
  {
   "cell_type": "markdown",
   "metadata": {},
   "source": [
    "## Ejemplos\n",
    "* Ejemplo 1"
   ]
  },
  {
   "cell_type": "code",
   "execution_count": 18,
   "metadata": {},
   "outputs": [
    {
     "data": {
      "text/plain": [
       "[[0.5, -0.5, -1.5, 1.5],\n",
       " [-0.5, 1.5, -1.5, 0.5],\n",
       " [-1.5, -1.5, 3.5, -1.5],\n",
       " [1.5, 0.5, -1.5, 0.5]]"
      ]
     },
     "execution_count": 18,
     "metadata": {},
     "output_type": "execute_result"
    }
   ],
   "source": [
    "# La matriz A =\n",
    "A = [\n",
    "    [1, 2, 3, 4],\n",
    "    [2, 5, 6, 7],\n",
    "    [3, 6, 8, 9],\n",
    "    [4, 7, 9, 10],\n",
    "]\n",
    "# tiene como inversa\n",
    "# A_inv =[[ 0.5, -0.5, -1.5,  1.5],\n",
    "#        [-0.5,  1.5, -1.5,  0.5],\n",
    "#        [-1.5, -1.5,  3.5, -1.5],\n",
    "#        [ 1.5,  0.5, -1.5,  0.5]]\n",
    "inv_matrix(A)"
   ]
  },
  {
   "cell_type": "markdown",
   "metadata": {},
   "source": [
    "* Ejemplo 2"
   ]
  },
  {
   "cell_type": "code",
   "execution_count": 19,
   "metadata": {},
   "outputs": [
    {
     "data": {
      "text/plain": [
       "[[-34.0, 31.0, 52.0, -20.0],\n",
       " [19.0, -17.0, -29.0, 11.0],\n",
       " [12.0, -11.0, -18.0, 7.0],\n",
       " [1.0, -1.0, -2.0, 1.0]]"
      ]
     },
     "execution_count": 19,
     "metadata": {},
     "output_type": "execute_result"
    }
   ],
   "source": [
    "# La matriz A =\n",
    "A = [\n",
    "    [4, 4, 5, 1],\n",
    "    [3, 4, 2, 2],\n",
    "    [2, 1, 4, 1],\n",
    "    [3, 2, 5, 4],\n",
    "]\n",
    "# tiene como inversa\n",
    "# A_inv =[[-34.,  31.,  52., -20.],\n",
    "#         [ 19., -17., -29.,  11.],\n",
    "#         [ 12., -11., -18.,   7.],\n",
    "#         [  1.,  -1.,  -2.,   1.]]\n",
    "inv_matrix(A)"
   ]
  },
  {
   "cell_type": "markdown",
   "metadata": {},
   "source": [
    "## Ejercicios"
   ]
  },
  {
   "cell_type": "markdown",
   "metadata": {},
   "source": [
    "* Ejercicio 1"
   ]
  },
  {
   "cell_type": "code",
   "execution_count": 20,
   "metadata": {},
   "outputs": [
    {
     "data": {
      "text/plain": [
       "[[-1.0, -3.0], [-1.0, -2.0]]"
      ]
     },
     "execution_count": 20,
     "metadata": {},
     "output_type": "execute_result"
    }
   ],
   "source": [
    "A = [[2, -3], [-1, 1]]\n",
    "inv_matrix(A)"
   ]
  },
  {
   "cell_type": "markdown",
   "metadata": {},
   "source": [
    "* Ejercicio 2"
   ]
  },
  {
   "cell_type": "code",
   "execution_count": 21,
   "metadata": {},
   "outputs": [
    {
     "data": {
      "text/plain": [
       "[[-36.0, 45.0, 60.0, -80.0],\n",
       " [3.0, -4.0, -5.0, 7.0],\n",
       " [9.0, -11.0, -15.0, 20.0],\n",
       " [29.0, -36.0, -48.0, 64.0]]"
      ]
     },
     "execution_count": 21,
     "metadata": {},
     "output_type": "execute_result"
    }
   ],
   "source": [
    "A = [\n",
    "    [4, 0, 0, 5],\n",
    "    [1, 0, 4, 0],\n",
    "    [3, 4, 1, 3],\n",
    "    [1, 3, 3, 0],\n",
    "]\n",
    "inv_matrix(A)"
   ]
  },
  {
   "cell_type": "markdown",
   "metadata": {},
   "source": [
    "* Ejercicio 3"
   ]
  },
  {
   "cell_type": "code",
   "execution_count": 22,
   "metadata": {},
   "outputs": [
    {
     "data": {
      "text/plain": [
       "[[2.0, -1.0, 0.0, -1.0, 0.0, 2.0, 2.0, -1.0],\n",
       " [0.0, 1.0, 1.0, -1.0, 0.0, 0.0, 0.0, 0.0],\n",
       " [6.0, -1.0, 0.0, -3.0, 1.0, 1.0, 4.0, -3.0],\n",
       " [6.0, 1.0, -1.0, -3.0, 1.0, -3.0, 3.0, -3.0],\n",
       " [2.0, -1.0, 1.0, -1.0, 0.0, 3.0, 2.0, -1.0],\n",
       " [-2.0, 2.0, 0.0, 0.0, 0.0, -4.0, -2.0, 1.0],\n",
       " [-1.0, 0.0, 0.0, 1.0, 0.0, 0.0, -1.0, 1.0],\n",
       " [-2.0, 0.0, 0.0, 1.0, 0.0, 0.0, -1.0, 1.0]]"
      ]
     },
     "execution_count": 22,
     "metadata": {},
     "output_type": "execute_result"
    }
   ],
   "source": [
    "A = [\n",
    "    [0, 0, 0, 0, 0, 0, 1, -1],\n",
    "    [0, 1, -1, 1, 0, -1, 0, 1],\n",
    "    [-1, -1, 0, 0, 2, 1, 0, 0],\n",
    "    [-1, -1, -1, 1, 2, 0, 0, 1],\n",
    "    [-1, 1, 1, 0, -1, -1, 0, 2],\n",
    "    [0, 1, 0, 0, -1, -1, 0, 0],\n",
    "    [1, -1, -1, 1, 2, 1, 0, 2],\n",
    "    [2, 0, 0, 0, 0, 1, 2, 0],\n",
    "]\n",
    "inv_matrix(A)"
   ]
  },
  {
   "cell_type": "markdown",
   "metadata": {},
   "source": [
    "* Ejercicio 4"
   ]
  },
  {
   "cell_type": "code",
   "execution_count": 23,
   "metadata": {},
   "outputs": [
    {
     "data": {
      "text/plain": [
       "[[14.0, -8.0, 9.0, -4.0, 0.0, -4.0, 9.0, 7.0, -8.0, 3.0],\n",
       " [-2.0, 2.0, -1.0, 2.0, 1.0, 1.0, -1.0, -1.0, 1.0, -2.0],\n",
       " [-27.0, 14.0, -18.0, 5.0, -2.0, 7.0, -17.0, -13.0, 16.0, -2.0],\n",
       " [12.0, -6.0, 8.0, -2.0, 1.0, -3.0, 7.0, 6.0, -7.0, 0.0],\n",
       " [6.0, -4.0, 4.0, -2.0, 0.0, -2.0, 4.0, 3.0, -3.0, 2.0],\n",
       " [18.0, -9.0, 12.0, -4.0, 1.0, -5.0, 11.0, 9.0, -11.0, 1.0],\n",
       " [8.0, -4.0, 5.0, -1.0, 1.0, -2.0, 5.0, 4.0, -5.0, 0.0],\n",
       " [-5.0, 2.0, -3.0, 0.0, -1.0, 1.0, -3.0, -2.0, 3.0, 1.0],\n",
       " [-11.0, 5.0, -7.0, 1.0, -2.0, 2.0, -7.0, -5.0, 7.0, 1.0],\n",
       " [1.0, -1.0, 1.0, -1.0, -1.0, -1.0, 1.0, 1.0, -1.0, 1.0]]"
      ]
     },
     "execution_count": 23,
     "metadata": {},
     "output_type": "execute_result"
    }
   ],
   "source": [
    "A = [\n",
    "    [1, 0, 0, 0, -1, 0, 0, -1, 1, -1],\n",
    "    [1, 1, 0, -1, -1, 1, 0, 0, 1, -1],\n",
    "    [-1, 0, -1, 0, 0, 0, -1, 1, 0, 0],\n",
    "    [0, 0, -1, 0, -1, -1, 1, 0, 1, 0],\n",
    "    [-1, 0, 0, -1, 1, 1, 1, 1, 0, -1],\n",
    "    [1, 0, 0, 1, -1, -1, -1, 1, -1, 0],\n",
    "    [1, 1, 1, 0, 1, 0, -1, -1, -1, 1],\n",
    "    [1, 1, 1, 1, 0, 0, 1, 1, 0, 0],\n",
    "    [1, 1, 1, 1, 1, 0, -1, -1, 0, 0],\n",
    "    [0, 0, -1, -1, -1, 0, 1, 1, 1, -1],\n",
    "]\n",
    "inv_matrix(A)"
   ]
  }
 ],
 "metadata": {
  "kernelspec": {
   "display_name": "Python 3",
   "language": "python",
   "name": "python3"
  },
  "language_info": {
   "codemirror_mode": {
    "name": "ipython",
    "version": 3
   },
   "file_extension": ".py",
   "mimetype": "text/x-python",
   "name": "python",
   "nbconvert_exporter": "python",
   "pygments_lexer": "ipython3",
   "version": "3.11.9"
  }
 },
 "nbformat": 4,
 "nbformat_minor": 2
}
