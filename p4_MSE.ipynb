{
 "cells": [
  {
   "cell_type": "code",
   "execution_count": null,
   "metadata": {},
   "outputs": [],
   "source": []
  },
  {
   "cell_type": "code",
   "execution_count": 1,
   "metadata": {},
   "outputs": [],
   "source": [
    "# Derivadas parciales para regresión lineal\n",
    "# ####################################################################\n",
    "def der_parcial_1(xs: list, ys: list) -> tuple[float, float, float]:\n",
    "    \"\"\"Retorna los coeficientes de la ecuación de la derivada parcial con respecto al parámetro 1 al reemplazar los valores ``xs`` y ``ys``. La ecuación es de la forma:\n",
    "    c_1 * a_1 + c_0 * a_0 = c_ind\n",
    "\n",
    "\n",
    "    ## Parameters\n",
    "\n",
    "    ``xs``: lista de valores de x.\n",
    "\n",
    "    ``ys``: lista de valores de y.\n",
    "\n",
    "    ## Return\n",
    "\n",
    "    ``c_1``: coeficiente del parámetro 1.\n",
    "\n",
    "    ``c_0``: coeficiente del parámetro 0.\n",
    "\n",
    "    ``c_ind``: coeficiente del término independiente.\n",
    "\n",
    "    \"\"\"\n",
    "\n",
    "    # coeficiente del término independiente\n",
    "    c_ind = sum(ys)\n",
    "\n",
    "    # coeficiente del parámetro 1\n",
    "    c_1 = sum(xs)\n",
    "\n",
    "    # coeficiente del parámetro 0\n",
    "    c_0 = len(xs)\n",
    "\n",
    "    return (c_1, c_0, c_ind)\n",
    "\n",
    "\n",
    "def der_parcial_0(xs: list, ys: list) -> tuple[float, float, float]:\n",
    "    \"\"\"Retorna los coeficientes de la ecuación de la derivada parcial con respecto al parámetro 0 al reemplazar los valores ``xs`` y ``ys``. La ecuación es de la forma:\n",
    "    c_1 * a_1 + c_0 * a_0 = c_ind\n",
    "\n",
    "\n",
    "    ## Parameters\n",
    "\n",
    "    ``xs``: lista de valores de x.\n",
    "\n",
    "    ``ys``: lista de valores de y.\n",
    "\n",
    "    ## Return\n",
    "\n",
    "    ``c_1``: coeficiente del parámetro 1.\n",
    "\n",
    "    ``c_0``: coeficiente del parámetro 0.\n",
    "\n",
    "    ``c_ind``: coeficiente del término independiente.\n",
    "\n",
    "    \"\"\"\n",
    "    c_1 = 0\n",
    "    c_0 = 0\n",
    "    c_ind = 0\n",
    "    for xi, yi in zip(xs, ys):\n",
    "        # coeficiente del término independiente\n",
    "        c_ind += xi * yi\n",
    "\n",
    "        # coeficiente del parámetro 1\n",
    "        c_1 += xi * xi\n",
    "\n",
    "        # coeficiente del parámetro 0\n",
    "        c_0 += xi\n",
    "\n",
    "    return (c_1, c_0, c_ind)"
   ]
  },
  {
   "cell_type": "code",
   "execution_count": null,
   "metadata": {},
   "outputs": [],
   "source": [
    "from src import ajustar_min_cuadrados\n",
    "\n",
    "# UTILICE:\n",
    "# ajustar_min_"
   ]
  },
  {
   "cell_type": "code",
   "execution_count": 4,
   "metadata": {},
   "outputs": [
    {
     "name": "stdout",
     "output_type": "stream",
     "text": [
      "Polinomio ajustado:\n",
      "y = -0.002791 x^4 + -0.034465 x^3 + 0.869866 x^2 + 8.886311 x + 33.104083\n",
      "\n",
      "Error relativo promedio: 0.053142\n",
      "Error relativo máximo: 0.242939\n",
      "Error relativo mínimo: 0.000026\n"
     ]
    }
   ],
   "source": [
    "import numpy as np\n",
    "\n",
    "# Ajuste polinomial de grado 4\n",
    "coef = np.polyfit(xs, ys, 4)  # coef[0] es el de x^4, coef[1] el de x^3, etc.\n",
    "p = np.poly1d(coef)\n",
    "\n",
    "# Valores ajustados\n",
    "ys_fit = p(xs)\n",
    "\n",
    "# Error relativo para cada punto\n",
    "errores_rel = np.abs((np.array(ys) - ys_fit) / np.array(ys))\n",
    "\n",
    "# Estadísticas de los errores relativos\n",
    "erel_prom = np.mean(errores_rel)\n",
    "erel_max = np.max(errores_rel)\n",
    "erel_min = np.min(errores_rel)\n",
    "\n",
    "# Mostrar el polinomio y los errores\n",
    "print(\"Polinomio ajustado:\")\n",
    "print(f\"y = {coef[0]:.6f} x^4 + {coef[1]:.6f} x^3 + {coef[2]:.6f} x^2 + {coef[3]:.6f} x + {coef[4]:.6f}\")\n",
    "print(f\"\\nError relativo promedio: {erel_prom:.6f}\")\n",
    "print(f\"Error relativo máximo: {erel_max:.6f}\")\n",
    "print(f\"Error relativo mínimo: {erel_min:.6f}\")"
   ]
  },
  {
   "cell_type": "code",
   "execution_count": null,
   "metadata": {},
   "outputs": [],
   "source": []
  }
 ],
 "metadata": {
  "kernelspec": {
   "display_name": "Python 3",
   "language": "python",
   "name": "python3"
  },
  "language_info": {
   "codemirror_mode": {
    "name": "ipython",
    "version": 3
   },
   "file_extension": ".py",
   "mimetype": "text/x-python",
   "name": "python",
   "nbconvert_exporter": "python",
   "pygments_lexer": "ipython3",
   "version": "3.11.9"
  }
 },
 "nbformat": 4,
 "nbformat_minor": 2
}
